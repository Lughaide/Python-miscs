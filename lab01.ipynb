{
 "cells": [
  {
   "cell_type": "code",
   "execution_count": 1,
   "metadata": {},
   "outputs": [],
   "source": [
    "import re"
   ]
  },
  {
   "cell_type": "code",
   "execution_count": 41,
   "metadata": {},
   "outputs": [
    {
     "name": "stdout",
     "output_type": "stream",
     "text": [
      "\n",
      "Chủ nhật, 11/10/2020, 08:03 (GMT+7)\n",
      "Phùng Thị Thắng, 24 tuổi, quê Bắc Giang, từng tham gia nhiều gameshow hài trên truyền hình, khai cần tiền trả nợ nên đi cướp ngân hàng.\n",
      "Sáng 11/10, Thắng bị Công an TP HCM điều tra về hành vi Cướp tài sản và các dấu hiệu tội phạm khác.\n",
      "Trưa hôm qua, sau khi cướp 2,1 tỷ đồng của Ngân hàng Techcombank trên đường Trương Vĩnh Ký, quận Tân Phú, Thắng tẩu thoát khỏi hiện trường bằng taxi. Cô ta vào nhiều trung tâm thương mại ở quận Tân Phú, Tân Bình, thay quần áo, mũ và các phụ kiện khác, valy... để nguỵ trang xoá dấu vết, tránh sự truy bắt của cảnh sát.\n",
      "Tuy nhiên, sau 3 giờ gây án, Thắng bị Công an TP HCM phối hợp Cục Cảnh sát Hình sự (C02, Bộ Công an) bắt giữ.\n",
      "Tin tức được lấy từ website vnexpress.net, tác giả: Q.T\n",
      "\n"
     ]
    }
   ],
   "source": [
    "text = '''\n",
    "Chủ nhật, 11/10/2020, 08:03 (GMT+7)\n",
    "Phùng Thị Thắng, 24 tuổi, quê Bắc Giang, từng tham gia nhiều gameshow hài trên truyền hình, khai cần tiền trả nợ nên đi cướp ngân hàng.\n",
    "Sáng 11/10, Thắng bị Công an TP HCM điều tra về hành vi Cướp tài sản và các dấu hiệu tội phạm khác.\n",
    "Trưa hôm qua, sau khi cướp 2,1 tỷ đồng của Ngân hàng Techcombank trên đường Trương Vĩnh Ký, quận Tân Phú, Thắng tẩu thoát khỏi hiện trường bằng taxi. Cô ta vào nhiều trung tâm thương mại ở quận Tân Phú, Tân Bình, thay quần áo, mũ và các phụ kiện khác, valy... để nguỵ trang xoá dấu vết, tránh sự truy bắt của cảnh sát.\n",
    "Tuy nhiên, sau 3 giờ gây án, Thắng bị Công an TP HCM phối hợp Cục Cảnh sát Hình sự (C02, Bộ Công an) bắt giữ.\n",
    "Tin tức được lấy từ website vnexpress.net, tác giả: Q.T\n",
    "'''\n",
    "print(text)"
   ]
  },
  {
   "cell_type": "code",
   "execution_count": 42,
   "metadata": {},
   "outputs": [],
   "source": [
    "name_pattern = re.compile('([A-Z]\\w+(?:\\s[A-Z]\\w+)+),\\s(\\d+)\\stuổi', re.MULTILINE)"
   ]
  },
  {
   "cell_type": "code",
   "execution_count": 43,
   "metadata": {},
   "outputs": [
    {
     "name": "stdout",
     "output_type": "stream",
     "text": [
      "Bị cáo Phùng Thị Thắng năm nay 24 tuổi\n"
     ]
    }
   ],
   "source": [
    "results = name_pattern.finditer(text)\n",
    "for s in results:\n",
    "    print(s.expand(\"Bị cáo \\g<1> năm nay \\g<2> tuổi\"))"
   ]
  }
 ],
 "metadata": {
  "kernelspec": {
   "display_name": "Python 3.9.13 64-bit (microsoft store)",
   "language": "python",
   "name": "python3"
  },
  "language_info": {
   "codemirror_mode": {
    "name": "ipython",
    "version": 3
   },
   "file_extension": ".py",
   "mimetype": "text/x-python",
   "name": "python",
   "nbconvert_exporter": "python",
   "pygments_lexer": "ipython3",
   "version": "3.9.13"
  },
  "orig_nbformat": 4,
  "vscode": {
   "interpreter": {
    "hash": "231b793e72510f63263cf75731d759da8776d8c74c3ed2dbefa0f0827e58fa6e"
   }
  }
 },
 "nbformat": 4,
 "nbformat_minor": 2
}
